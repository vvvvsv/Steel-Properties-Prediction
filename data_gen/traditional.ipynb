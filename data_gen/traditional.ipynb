{
 "cells": [
  {
   "cell_type": "code",
   "execution_count": 134,
   "metadata": {},
   "outputs": [],
   "source": [
    "import numpy as np\n",
    "import pandas as pd\n",
    "import matplotlib.pyplot as plt\n",
    "import seaborn as sns\n",
    "import os\n",
    "\n",
    "train_path = './processed_data/minmax_pca_25/train.csv'\n",
    "test_path = './processed_data/minmax_pca_25/test.csv'\n",
    "train = pd.read_csv(train_path, index_col=0)\n",
    "test = pd.read_csv(test_path, index_col=0)\n",
    "\n",
    "train_X = train.iloc[:,3:].to_numpy()\n",
    "train_Y = train.iloc[:,:3].to_numpy()\n",
    "test_X = test.iloc[:,3:].to_numpy()\n",
    "test_Y = test.iloc[:,:3].to_numpy()"
   ]
  },
  {
   "cell_type": "code",
   "execution_count": 74,
   "metadata": {},
   "outputs": [
    {
     "data": {
      "text/plain": [
       "({'n_estimators': 50}, -631.6419824376086)"
      ]
     },
     "execution_count": 74,
     "metadata": {},
     "output_type": "execute_result"
    }
   ],
   "source": [
    "from sklearn.model_selection import GridSearchCV\n",
    "from sklearn.ensemble import GradientBoostingRegressor\n",
    "from sklearn.svm import SVR\n",
    "from sklearn.metrics import mean_squared_error\n",
    "\n",
    "param_test1 = {'n_estimators':range(20,81,10)}\n",
    "gsearch1 = GridSearchCV(estimator = GradientBoostingRegressor(learning_rate=0.1, min_samples_split=50, min_samples_leaf=20, max_depth=6, max_features=20, subsample=0.8, random_state=10),\n",
    "    param_grid = param_test1, scoring='neg_mean_squared_error', n_jobs=4, cv=5)\n",
    "gsearch1.fit(train_X, train_Y[:, 0])\n",
    "gsearch1.best_params_, gsearch1.best_score_"
   ]
  },
  {
   "cell_type": "code",
   "execution_count": 68,
   "metadata": {},
   "outputs": [
    {
     "data": {
      "text/plain": [
       "({'max_depth': 5, 'min_samples_split': 100}, -618.185594156759)"
      ]
     },
     "execution_count": 68,
     "metadata": {},
     "output_type": "execute_result"
    }
   ],
   "source": [
    "param_test2 = {'max_depth':range(3,16,2), 'min_samples_split':range(80,201,20)}\n",
    "gsearch2 = GridSearchCV(estimator = GradientBoostingRegressor(learning_rate=0.1, n_estimators=50, max_features=20, subsample=0.8, random_state=10), \n",
    "param_grid = param_test2, scoring='neg_mean_squared_error',n_jobs=4, cv=5)\n",
    "gsearch2.fit(train_X, train_Y[:, 0])\n",
    "gsearch2.best_params_, gsearch2.best_score_"
   ]
  },
  {
   "cell_type": "code",
   "execution_count": 72,
   "metadata": {},
   "outputs": [
    {
     "data": {
      "text/plain": [
       "({'min_samples_leaf': 100}, -622.6836809436724)"
      ]
     },
     "execution_count": 72,
     "metadata": {},
     "output_type": "execute_result"
    }
   ],
   "source": [
    "param_test3 = {'min_samples_leaf':range(30,151,10)}\n",
    "gsearch3 = GridSearchCV(estimator = GradientBoostingRegressor(learning_rate=0.1, n_estimators=50, max_depth=5, min_samples_split=100, max_features=20, subsample=0.8, random_state=10), \n",
    "param_grid = param_test3, scoring='neg_mean_squared_error',n_jobs=4, cv=5)\n",
    "gsearch3.fit(train_X, train_Y[:, 0])\n",
    "gsearch3.best_params_, gsearch3.best_score_"
   ]
  },
  {
   "cell_type": "code",
   "execution_count": 75,
   "metadata": {},
   "outputs": [
    {
     "data": {
      "text/plain": [
       "({'max_features': 19}, -622.1838550268105)"
      ]
     },
     "execution_count": 75,
     "metadata": {},
     "output_type": "execute_result"
    }
   ],
   "source": [
    "param_test4 = {'max_features':range(7,26,2)}\n",
    "gsearch4 = GridSearchCV(estimator = GradientBoostingRegressor(learning_rate=0.1, n_estimators=50, max_depth=5, min_samples_split=100, min_samples_leaf=100, subsample=0.8, random_state=10),\n",
    "param_grid = param_test4, scoring='neg_mean_squared_error',n_jobs=4, cv=5)\n",
    "gsearch4.fit(train_X, train_Y[:, 0])\n",
    "gsearch4.best_params_, gsearch4.best_score_"
   ]
  },
  {
   "cell_type": "code",
   "execution_count": 76,
   "metadata": {},
   "outputs": [
    {
     "data": {
      "text/plain": [
       "({'subsample': 0.75}, -616.2687936681148)"
      ]
     },
     "execution_count": 76,
     "metadata": {},
     "output_type": "execute_result"
    }
   ],
   "source": [
    "param_test5 = {'subsample':[0.6,0.7,0.75,0.8,0.85,0.9]}\n",
    "gsearch5 = GridSearchCV(estimator = GradientBoostingRegressor(learning_rate=0.1, n_estimators=50, max_depth=5, min_samples_split=100, min_samples_leaf=100, max_features=19, random_state=10),\n",
    "param_grid = param_test5, scoring='neg_mean_squared_error',n_jobs=4, cv=5)\n",
    "gsearch5.fit(train_X, train_Y[:, 0])\n",
    "gsearch5.best_params_, gsearch5.best_score_"
   ]
  },
  {
   "cell_type": "code",
   "execution_count": 78,
   "metadata": {},
   "outputs": [
    {
     "data": {
      "text/plain": [
       "({'max_depth': 5, 'min_samples_split': 90, 'n_estimators': 55},\n",
       " -615.1175442288056)"
      ]
     },
     "execution_count": 78,
     "metadata": {},
     "output_type": "execute_result"
    }
   ],
   "source": [
    "param_test6 = {'n_estimators':[45,50,55], 'max_depth':[4,5,6], 'min_samples_split':[90,100,110]}\n",
    "gsearch6 = GridSearchCV(estimator = GradientBoostingRegressor(learning_rate=0.1, random_state=10, min_samples_leaf=100, max_features=19, subsample=0.75),\n",
    "param_grid = param_test6, scoring='neg_mean_squared_error',n_jobs=4, cv=5)\n",
    "gsearch6.fit(train_X, train_Y[:, 0])\n",
    "gsearch6.best_params_, gsearch6.best_score_"
   ]
  },
  {
   "cell_type": "code",
   "execution_count": 79,
   "metadata": {},
   "outputs": [
    {
     "data": {
      "text/plain": [
       "({'max_features': 19, 'min_samples_leaf': 100, 'subsample': 0.75},\n",
       " -615.1175442288056)"
      ]
     },
     "execution_count": 79,
     "metadata": {},
     "output_type": "execute_result"
    }
   ],
   "source": [
    "param_test7 = {'min_samples_leaf':[95,100,105],'max_features':[18,19,20], 'subsample':[0.73,0.75,0.77]}\n",
    "gsearch7 = GridSearchCV(estimator = GradientBoostingRegressor(learning_rate=0.1, random_state=10, max_depth=5, min_samples_split=90, n_estimators=55),\n",
    "param_grid = param_test7, scoring='neg_mean_squared_error',n_jobs=4, cv=5)\n",
    "gsearch7.fit(train_X, train_Y[:, 0])\n",
    "gsearch7.best_params_, gsearch7.best_score_"
   ]
  },
  {
   "cell_type": "code",
   "execution_count": 135,
   "metadata": {},
   "outputs": [
    {
     "name": "stdout",
     "output_type": "stream",
     "text": [
      "task 0\n",
      "mse: 507.01\n",
      "rmse: 22.52\n",
      "mae: 16.89\n",
      "r2: 0.27\n",
      "task 1\n",
      "mse: 226.64\n",
      "rmse: 15.05\n",
      "mae: 11.44\n",
      "r2: 0.23\n",
      "task 2\n",
      "mse: 15.10\n",
      "rmse: 3.89\n",
      "mae: 3.11\n",
      "r2: 0.20\n"
     ]
    }
   ],
   "source": [
    "from sklearn.metrics import mean_squared_error\n",
    "from sklearn.metrics import mean_absolute_error\n",
    "from sklearn.metrics import r2_score\n",
    "\n",
    "# for i in range(2):\n",
    "#     print(\"task\",i)\n",
    "#     gbdt = GradientBoostingRegressor(learning_rate=0.025, n_estimators=220, max_depth=5, min_samples_split=90, min_samples_leaf=100, max_features=19, subsample=0.75, random_state=10)\n",
    "#     # gbdt = GradientBoostingRegressor()\n",
    "#     gbdt.fit(train_X, train_Y[:, i])\n",
    "#     mse = mean_squared_error(y_true=test_Y[:, i], y_pred=gbdt.predict(test_X))\n",
    "#     mae = mean_absolute_error(y_true=test_Y[:, i], y_pred=gbdt.predict(test_X))\n",
    "#     r2 = r2_score(y_true=test_Y[:, i], y_pred=gbdt.predict(test_X))\n",
    "#     print(\"mse: {:.2f}\".format(mse))\n",
    "#     print(\"rmse: {:.2f}\".format(np.sqrt(mse)))\n",
    "#     print(\"mae: {:.2f}\".format(mae))\n",
    "#     print(\"r2: {:.2f}\".format(r2))\n",
    "\n",
    "for i in range(3):\n",
    "    print(\"task\",i)\n",
    "    svr = SVR()\n",
    "    svr.fit(train_X, train_Y[:, i])\n",
    "    mse = mean_squared_error(y_true=test_Y[:, i], y_pred=svr.predict(test_X))\n",
    "    mae = mean_absolute_error(y_true=test_Y[:, i], y_pred=svr.predict(test_X))\n",
    "    r2 = r2_score(y_true=test_Y[:, i], y_pred=svr.predict(test_X))\n",
    "    print(\"mse: {:.2f}\".format(mse))\n",
    "    print(\"rmse: {:.2f}\".format(np.sqrt(mse)))\n",
    "    print(\"mae: {:.2f}\".format(mae))\n",
    "    print(\"r2: {:.2f}\".format(r2))\n"
   ]
  },
  {
   "cell_type": "code",
   "execution_count": 124,
   "metadata": {},
   "outputs": [
    {
     "name": "stderr",
     "output_type": "stream",
     "text": [
      "100%|██████████| 1/1 [00:10<00:00, 10.23s/it]\n"
     ]
    }
   ],
   "source": [
    "from tqdm import tqdm\n",
    "\n",
    "res = []\n",
    "for dirname in tqdm(os.listdir('./processed_data')):\n",
    "    train_path = f'./processed_data/{dirname}/train.csv'\n",
    "    test_path = f'./processed_data/{dirname}/test.csv'\n",
    "    train = pd.read_csv(train_path, index_col=0)\n",
    "    test = pd.read_csv(test_path, index_col=0)\n",
    "\n",
    "    train_X = train.iloc[:,3:].to_numpy()\n",
    "    train_Y = train.iloc[:,:3].to_numpy()\n",
    "    test_X = test.iloc[:,3:].to_numpy()\n",
    "    test_Y = test.iloc[:,:3].to_numpy()\n",
    "    \n",
    "    gbdt_res = []\n",
    "    svr_res = []\n",
    "    for i in range(3):\n",
    "        gbdt = GradientBoostingRegressor()\n",
    "        gbdt.fit(train_X, train_Y[:, i])\n",
    "        mse = mean_squared_error(y_true=test_Y[:, i], y_pred=gbdt.predict(test_X))\n",
    "        # print(mse)\n",
    "        gbdt_res.append(mse)\n",
    "\n",
    "        # svr = SVR()\n",
    "        # svr.fit(train_X, train_Y[:, i])\n",
    "        # mse = mean_squared_error(y_true=test_Y[:, i], y_pred=svr.predict(test_X))\n",
    "        # # print(mse)\n",
    "        # svr_res.append(mse)\n",
    "    res.append([dirname, gbdt_res, svr_res])"
   ]
  },
  {
   "cell_type": "code",
   "execution_count": 123,
   "metadata": {},
   "outputs": [
    {
     "name": "stdout",
     "output_type": "stream",
     "text": [
      "minmax_pca_25\n",
      "363.68767458810464\n",
      "[['minmax_pca_25', [363.68767458810464, 194.97712222017938, 15.253775675584683], []]]\n"
     ]
    }
   ],
   "source": [
    "mn1=1000\n",
    "mn2=1000\n",
    "for dirname, gbdt, svr in res:\n",
    "    mn1 = min(mn1, gbdt[0])\n",
    "    # mn2 = min(mn2, svr[0])\n",
    "    if(gbdt[0]<365): print(dirname)\n",
    "print(mn1)\n",
    "# print(mn2)\n",
    "# res1 = res.copy()\n",
    "print(res)"
   ]
  }
 ],
 "metadata": {
  "interpreter": {
   "hash": "17ef22cf90f0f69a1d042cd7b0a31f1a7801a8cfc89087d7bc2c468928689709"
  },
  "kernelspec": {
   "display_name": "Python 3.6.13 ('py36_hjf')",
   "language": "python",
   "name": "python3"
  },
  "language_info": {
   "codemirror_mode": {
    "name": "ipython",
    "version": 3
   },
   "file_extension": ".py",
   "mimetype": "text/x-python",
   "name": "python",
   "nbconvert_exporter": "python",
   "pygments_lexer": "ipython3",
   "version": "3.6.13"
  },
  "orig_nbformat": 4
 },
 "nbformat": 4,
 "nbformat_minor": 2
}
