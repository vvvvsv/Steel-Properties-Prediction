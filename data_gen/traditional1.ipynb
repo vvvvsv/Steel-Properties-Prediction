{
 "cells": [
  {
   "cell_type": "code",
   "execution_count": 1,
   "metadata": {},
   "outputs": [],
   "source": [
    "import numpy as np\n",
    "import pandas as pd\n",
    "import matplotlib.pyplot as plt\n",
    "import seaborn as sns\n",
    "import os\n",
    "\n",
    "train_path = './processed_data/minmax_pca_25/train.csv'\n",
    "test_path = './processed_data/minmax_pca_25/test.csv'\n",
    "train = pd.read_csv(train_path, index_col=0)\n",
    "test = pd.read_csv(test_path, index_col=0)\n",
    "\n",
    "train_X = train.iloc[:,3:].to_numpy()\n",
    "train_Y = train.iloc[:,:3].to_numpy()\n",
    "test_X = test.iloc[:,3:].to_numpy()\n",
    "test_Y = test.iloc[:,:3].to_numpy()"
   ]
  },
  {
   "cell_type": "code",
   "execution_count": 2,
   "metadata": {},
   "outputs": [
    {
     "data": {
      "text/plain": [
       "({'n_estimators': 60}, -195.068478811739)"
      ]
     },
     "execution_count": 2,
     "metadata": {},
     "output_type": "execute_result"
    }
   ],
   "source": [
    "from sklearn.model_selection import GridSearchCV\n",
    "from sklearn.ensemble import GradientBoostingRegressor\n",
    "from sklearn.svm import SVR\n",
    "from sklearn.metrics import mean_squared_error\n",
    "\n",
    "param_test1 = {'n_estimators':range(20,81,10)}\n",
    "gsearch1 = GridSearchCV(estimator = GradientBoostingRegressor(learning_rate=0.1, min_samples_split=50, min_samples_leaf=20, max_depth=6, max_features=20, subsample=0.8, random_state=10),\n",
    "    param_grid = param_test1, scoring='neg_mean_squared_error', n_jobs=4, cv=5)\n",
    "gsearch1.fit(train_X, train_Y[:, 1])\n",
    "gsearch1.best_params_, gsearch1.best_score_"
   ]
  },
  {
   "cell_type": "code",
   "execution_count": 3,
   "metadata": {},
   "outputs": [
    {
     "data": {
      "text/plain": [
       "({'max_depth': 7, 'min_samples_split': 140}, -193.21583235260235)"
      ]
     },
     "execution_count": 3,
     "metadata": {},
     "output_type": "execute_result"
    }
   ],
   "source": [
    "param_test2 = {'max_depth':range(3,16,2), 'min_samples_split':range(80,201,20)}\n",
    "gsearch2 = GridSearchCV(estimator = GradientBoostingRegressor(learning_rate=0.1, n_estimators=60, max_features=20, subsample=0.8, random_state=10), \n",
    "param_grid = param_test2, scoring='neg_mean_squared_error',n_jobs=4, cv=5)\n",
    "gsearch2.fit(train_X, train_Y[:, 1])\n",
    "gsearch2.best_params_, gsearch2.best_score_"
   ]
  },
  {
   "cell_type": "code",
   "execution_count": 4,
   "metadata": {},
   "outputs": [
    {
     "data": {
      "text/plain": [
       "({'min_samples_leaf': 80}, -190.68440387618602)"
      ]
     },
     "execution_count": 4,
     "metadata": {},
     "output_type": "execute_result"
    }
   ],
   "source": [
    "param_test3 = {'min_samples_leaf':range(30,151,10)}\n",
    "gsearch3 = GridSearchCV(estimator = GradientBoostingRegressor(learning_rate=0.1, n_estimators=60, max_depth=7, min_samples_split=140, max_features=20, subsample=0.8, random_state=10), \n",
    "param_grid = param_test3, scoring='neg_mean_squared_error',n_jobs=4, cv=5)\n",
    "gsearch3.fit(train_X, train_Y[:, 1])\n",
    "gsearch3.best_params_, gsearch3.best_score_"
   ]
  },
  {
   "cell_type": "code",
   "execution_count": 7,
   "metadata": {},
   "outputs": [
    {
     "data": {
      "text/plain": [
       "({'max_features': 20}, -190.68440387618602)"
      ]
     },
     "execution_count": 7,
     "metadata": {},
     "output_type": "execute_result"
    }
   ],
   "source": [
    "param_test4 = {'max_features':range(7,26,1)}\n",
    "gsearch4 = GridSearchCV(estimator = GradientBoostingRegressor(learning_rate=0.1, n_estimators=60, max_depth=7, min_samples_split=140, min_samples_leaf=80, subsample=0.8, random_state=10),\n",
    "param_grid = param_test4, scoring='neg_mean_squared_error',n_jobs=4, cv=5)\n",
    "gsearch4.fit(train_X, train_Y[:, 1])\n",
    "gsearch4.best_params_, gsearch4.best_score_"
   ]
  },
  {
   "cell_type": "code",
   "execution_count": 8,
   "metadata": {},
   "outputs": [
    {
     "data": {
      "text/plain": [
       "({'subsample': 0.8}, -190.68440387618602)"
      ]
     },
     "execution_count": 8,
     "metadata": {},
     "output_type": "execute_result"
    }
   ],
   "source": [
    "param_test5 = {'subsample':[0.6,0.7,0.75,0.8,0.85,0.9]}\n",
    "gsearch5 = GridSearchCV(estimator = GradientBoostingRegressor(learning_rate=0.1, n_estimators=60, max_depth=7, min_samples_split=140, min_samples_leaf=80, max_features=20, random_state=10),\n",
    "param_grid = param_test5, scoring='neg_mean_squared_error',n_jobs=4, cv=5)\n",
    "gsearch5.fit(train_X, train_Y[:, 1])\n",
    "gsearch5.best_params_, gsearch5.best_score_"
   ]
  },
  {
   "cell_type": "code",
   "execution_count": 13,
   "metadata": {},
   "outputs": [
    {
     "data": {
      "text/plain": [
       "({'max_depth': 7, 'min_samples_split': 130, 'n_estimators': 60},\n",
       " -190.68440387618602)"
      ]
     },
     "execution_count": 13,
     "metadata": {},
     "output_type": "execute_result"
    }
   ],
   "source": [
    "param_test6 = {'n_estimators':[55,60,65], 'max_depth':[6,7,8], 'min_samples_split':[130,140,150]}\n",
    "gsearch6 = GridSearchCV(estimator = GradientBoostingRegressor(learning_rate=0.1, random_state=10, min_samples_leaf=80, max_features=20, subsample=0.8),\n",
    "param_grid = param_test6, scoring='neg_mean_squared_error',n_jobs=4, cv=5)\n",
    "gsearch6.fit(train_X, train_Y[:, 1])\n",
    "gsearch6.best_params_, gsearch6.best_score_"
   ]
  },
  {
   "cell_type": "code",
   "execution_count": 12,
   "metadata": {},
   "outputs": [
    {
     "data": {
      "text/plain": [
       "({'max_features': 20, 'min_samples_leaf': 80, 'subsample': 0.8},\n",
       " -190.68440387618602)"
      ]
     },
     "execution_count": 12,
     "metadata": {},
     "output_type": "execute_result"
    }
   ],
   "source": [
    "param_test7 = {'min_samples_leaf':[75,80,85],'max_features':[19,20,21], 'subsample':[0.78,0.8,0.82]}\n",
    "gsearch7 = GridSearchCV(estimator = GradientBoostingRegressor(learning_rate=0.1, random_state=10, max_depth=7, min_samples_split=130, n_estimators=60),\n",
    "param_grid = param_test7, scoring='neg_mean_squared_error',n_jobs=4, cv=5)\n",
    "gsearch7.fit(train_X, train_Y[:, 1])\n",
    "gsearch7.best_params_, gsearch7.best_score_"
   ]
  },
  {
   "cell_type": "code",
   "execution_count": 19,
   "metadata": {},
   "outputs": [
    {
     "name": "stdout",
     "output_type": "stream",
     "text": [
      "task 1\n",
      "mse: 186.35\n",
      "rmse: 13.65\n",
      "mae: 10.69\n",
      "r2: 0.37\n"
     ]
    }
   ],
   "source": [
    "from sklearn.metrics import mean_squared_error\n",
    "from sklearn.metrics import mean_absolute_error\n",
    "from sklearn.metrics import r2_score\n",
    "\n",
    "for i in range(1,2):\n",
    "    print(\"task\",i)\n",
    "    gbdt = GradientBoostingRegressor(learning_rate=0.05, n_estimators=120, max_depth=7, min_samples_split=130, min_samples_leaf=80, max_features=20, subsample=0.8, random_state=10)\n",
    "    # gbdt = GradientBoostingRegressor()\n",
    "    gbdt.fit(train_X, train_Y[:, i])\n",
    "    mse = mean_squared_error(y_true=test_Y[:, i], y_pred=gbdt.predict(test_X))\n",
    "    mae = mean_absolute_error(y_true=test_Y[:, i], y_pred=gbdt.predict(test_X))\n",
    "    r2 = r2_score(y_true=test_Y[:, i], y_pred=gbdt.predict(test_X))\n",
    "    print(\"mse: {:.2f}\".format(mse))\n",
    "    print(\"rmse: {:.2f}\".format(np.sqrt(mse)))\n",
    "    print(\"mae: {:.2f}\".format(mae))\n",
    "    print(\"r2: {:.2f}\".format(r2))\n",
    "\n",
    "# for i in range(3):\n",
    "#     svr = SVR()\n",
    "#     svr.fit(train_X, train_Y[:, i])\n",
    "#     mse = mean_squared_error(y_true=test_Y[:, i], y_pred=svr.predict(test_X))\n",
    "#     print(mse)"
   ]
  },
  {
   "cell_type": "code",
   "execution_count": 124,
   "metadata": {},
   "outputs": [
    {
     "name": "stderr",
     "output_type": "stream",
     "text": [
      "100%|██████████| 1/1 [00:10<00:00, 10.23s/it]\n"
     ]
    }
   ],
   "source": [
    "from tqdm import tqdm\n",
    "\n",
    "res = []\n",
    "for dirname in tqdm(os.listdir('./processed_data')):\n",
    "    train_path = f'./processed_data/{dirname}/train.csv'\n",
    "    test_path = f'./processed_data/{dirname}/test.csv'\n",
    "    train = pd.read_csv(train_path, index_col=0)\n",
    "    test = pd.read_csv(test_path, index_col=0)\n",
    "\n",
    "    train_X = train.iloc[:,3:].to_numpy()\n",
    "    train_Y = train.iloc[:,:3].to_numpy()\n",
    "    test_X = test.iloc[:,3:].to_numpy()\n",
    "    test_Y = test.iloc[:,:3].to_numpy()\n",
    "    \n",
    "    gbdt_res = []\n",
    "    svr_res = []\n",
    "    for i in range(3):\n",
    "        gbdt = GradientBoostingRegressor()\n",
    "        gbdt.fit(train_X, train_Y[:, i])\n",
    "        mse = mean_squared_error(y_true=test_Y[:, i], y_pred=gbdt.predict(test_X))\n",
    "        # print(mse)\n",
    "        gbdt_res.append(mse)\n",
    "\n",
    "        # svr = SVR()\n",
    "        # svr.fit(train_X, train_Y[:, i])\n",
    "        # mse = mean_squared_error(y_true=test_Y[:, i], y_pred=svr.predict(test_X))\n",
    "        # # print(mse)\n",
    "        # svr_res.append(mse)\n",
    "    res.append([dirname, gbdt_res, svr_res])"
   ]
  },
  {
   "cell_type": "code",
   "execution_count": 123,
   "metadata": {},
   "outputs": [
    {
     "name": "stdout",
     "output_type": "stream",
     "text": [
      "minmax_pca_25\n",
      "363.68767458810464\n",
      "[['minmax_pca_25', [363.68767458810464, 194.97712222017938, 15.253775675584683], []]]\n"
     ]
    }
   ],
   "source": [
    "mn1=1000\n",
    "mn2=1000\n",
    "for dirname, gbdt, svr in res:\n",
    "    mn1 = min(mn1, gbdt[0])\n",
    "    # mn2 = min(mn2, svr[0])\n",
    "    if(gbdt[0]<365): print(dirname)\n",
    "print(mn1)\n",
    "# print(mn2)\n",
    "# res1 = res.copy()\n",
    "print(res)"
   ]
  }
 ],
 "metadata": {
  "interpreter": {
   "hash": "17ef22cf90f0f69a1d042cd7b0a31f1a7801a8cfc89087d7bc2c468928689709"
  },
  "kernelspec": {
   "display_name": "Python 3.6.13 ('py36_hjf')",
   "language": "python",
   "name": "python3"
  },
  "language_info": {
   "codemirror_mode": {
    "name": "ipython",
    "version": 3
   },
   "file_extension": ".py",
   "mimetype": "text/x-python",
   "name": "python",
   "nbconvert_exporter": "python",
   "pygments_lexer": "ipython3",
   "version": "3.6.13"
  },
  "orig_nbformat": 4
 },
 "nbformat": 4,
 "nbformat_minor": 2
}
