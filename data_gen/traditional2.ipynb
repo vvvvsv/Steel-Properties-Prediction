{
 "cells": [
  {
   "cell_type": "code",
   "execution_count": 27,
   "metadata": {},
   "outputs": [],
   "source": [
    "import numpy as np\n",
    "import pandas as pd\n",
    "import matplotlib.pyplot as plt\n",
    "import seaborn as sns\n",
    "import os\n",
    "\n",
    "train_path = './processed_data/minmax_normal_33/train.csv'\n",
    "test_path = './processed_data/minmax_normal_33/test.csv'\n",
    "train = pd.read_csv(train_path, index_col=0)\n",
    "test = pd.read_csv(test_path, index_col=0)\n",
    "\n",
    "train_X = train.iloc[:,3:].to_numpy()\n",
    "train_Y = train.iloc[:,:3].to_numpy()\n",
    "test_X = test.iloc[:,3:].to_numpy()\n",
    "test_Y = test.iloc[:,:3].to_numpy()"
   ]
  },
  {
   "cell_type": "code",
   "execution_count": 9,
   "metadata": {},
   "outputs": [
    {
     "data": {
      "text/plain": [
       "({'n_estimators': 40}, -17.36813904444128)"
      ]
     },
     "execution_count": 9,
     "metadata": {},
     "output_type": "execute_result"
    }
   ],
   "source": [
    "from sklearn.model_selection import GridSearchCV\n",
    "from sklearn.ensemble import GradientBoostingRegressor\n",
    "from sklearn.svm import SVR\n",
    "from sklearn.metrics import mean_squared_error\n",
    "\n",
    "param_test1 = {'n_estimators':range(10,81,10)}\n",
    "gsearch1 = GridSearchCV(estimator = GradientBoostingRegressor(learning_rate=0.07, min_samples_split=50, min_samples_leaf=20, max_depth=6, max_features=20, subsample=0.8, random_state=10),\n",
    "    param_grid = param_test1, scoring='neg_mean_squared_error', n_jobs=4, cv=5)\n",
    "gsearch1.fit(train_X, train_Y[:, 2])\n",
    "gsearch1.best_params_, gsearch1.best_score_"
   ]
  },
  {
   "cell_type": "code",
   "execution_count": 10,
   "metadata": {},
   "outputs": [
    {
     "data": {
      "text/plain": [
       "({'max_depth': 5, 'min_samples_split': 180}, -17.151934897990536)"
      ]
     },
     "execution_count": 10,
     "metadata": {},
     "output_type": "execute_result"
    }
   ],
   "source": [
    "param_test2 = {'max_depth':range(3,16,2), 'min_samples_split':range(80,201,20)}\n",
    "gsearch2 = GridSearchCV(estimator = GradientBoostingRegressor(learning_rate=0.07, n_estimators=40, max_features=20, subsample=0.8, random_state=10), \n",
    "param_grid = param_test2, scoring='neg_mean_squared_error',n_jobs=4, cv=5)\n",
    "gsearch2.fit(train_X, train_Y[:, 2])\n",
    "gsearch2.best_params_, gsearch2.best_score_"
   ]
  },
  {
   "cell_type": "code",
   "execution_count": 12,
   "metadata": {},
   "outputs": [
    {
     "data": {
      "text/plain": [
       "({'min_samples_leaf': 30}, -17.2836169231442)"
      ]
     },
     "execution_count": 12,
     "metadata": {},
     "output_type": "execute_result"
    }
   ],
   "source": [
    "param_test3 = {'min_samples_leaf':range(10,151,10)}\n",
    "gsearch3 = GridSearchCV(estimator = GradientBoostingRegressor(learning_rate=0.07, n_estimators=40, max_depth=5, min_samples_split=180, max_features=20, subsample=0.8, random_state=10), \n",
    "param_grid = param_test3, scoring='neg_mean_squared_error',n_jobs=4, cv=5)\n",
    "gsearch3.fit(train_X, train_Y[:, 2])\n",
    "gsearch3.best_params_, gsearch3.best_score_"
   ]
  },
  {
   "cell_type": "code",
   "execution_count": 15,
   "metadata": {},
   "outputs": [
    {
     "data": {
      "text/plain": [
       "({'max_features': 25}, -17.36892976703158)"
      ]
     },
     "execution_count": 15,
     "metadata": {},
     "output_type": "execute_result"
    }
   ],
   "source": [
    "param_test4 = {'max_features':range(7,34,2)}\n",
    "gsearch4 = GridSearchCV(estimator = GradientBoostingRegressor(learning_rate=0.07, n_estimators=40, max_depth=5, min_samples_split=180, min_samples_leaf=30, subsample=0.8, random_state=10),\n",
    "param_grid = param_test4, scoring='neg_mean_squared_error',n_jobs=4, cv=5)\n",
    "gsearch4.fit(train_X, train_Y[:, 2])\n",
    "gsearch4.best_params_, gsearch4.best_score_"
   ]
  },
  {
   "cell_type": "code",
   "execution_count": 17,
   "metadata": {},
   "outputs": [
    {
     "data": {
      "text/plain": [
       "({'subsample': 0.7}, -17.22735618508423)"
      ]
     },
     "execution_count": 17,
     "metadata": {},
     "output_type": "execute_result"
    }
   ],
   "source": [
    "param_test5 = {'subsample':[0.6,0.65,0.7,0.75,0.8,0.85,0.9]}\n",
    "gsearch5 = GridSearchCV(estimator = GradientBoostingRegressor(learning_rate=0.07, n_estimators=40, max_depth=5, min_samples_split=180, min_samples_leaf=30, max_features=25, random_state=10),\n",
    "param_grid = param_test5, scoring='neg_mean_squared_error',n_jobs=4, cv=5)\n",
    "gsearch5.fit(train_X, train_Y[:, 2])\n",
    "gsearch5.best_params_, gsearch5.best_score_"
   ]
  },
  {
   "cell_type": "code",
   "execution_count": 18,
   "metadata": {},
   "outputs": [
    {
     "data": {
      "text/plain": [
       "({'max_depth': 5, 'min_samples_split': 180, 'n_estimators': 40},\n",
       " -17.22735618508423)"
      ]
     },
     "execution_count": 18,
     "metadata": {},
     "output_type": "execute_result"
    }
   ],
   "source": [
    "param_test6 = {'n_estimators':[35,40,45], 'max_depth':[4,5,6], 'min_samples_split':[170,180,190]}\n",
    "gsearch6 = GridSearchCV(estimator = GradientBoostingRegressor(learning_rate=0.07, random_state=10, min_samples_leaf=30, max_features=25, subsample=0.7),\n",
    "param_grid = param_test6, scoring='neg_mean_squared_error',n_jobs=4, cv=5)\n",
    "gsearch6.fit(train_X, train_Y[:, 2])\n",
    "gsearch6.best_params_, gsearch6.best_score_"
   ]
  },
  {
   "cell_type": "code",
   "execution_count": 21,
   "metadata": {},
   "outputs": [
    {
     "data": {
      "text/plain": [
       "({'max_features': 26, 'min_samples_leaf': 30, 'subsample': 0.72},\n",
       " -17.163338030484134)"
      ]
     },
     "execution_count": 21,
     "metadata": {},
     "output_type": "execute_result"
    }
   ],
   "source": [
    "param_test7 = {'min_samples_leaf':[25,30,35],'max_features':[25,26,27], 'subsample':[0.7,0.71,0.72,0.73,0.74]}\n",
    "gsearch7 = GridSearchCV(estimator = GradientBoostingRegressor(learning_rate=0.07, random_state=10, n_estimators=40, max_depth=5, min_samples_split=180),\n",
    "param_grid = param_test7, scoring='neg_mean_squared_error',n_jobs=4, cv=5)\n",
    "gsearch7.fit(train_X, train_Y[:, 2])\n",
    "gsearch7.best_params_, gsearch7.best_score_"
   ]
  },
  {
   "cell_type": "code",
   "execution_count": 33,
   "metadata": {},
   "outputs": [
    {
     "name": "stdout",
     "output_type": "stream",
     "text": [
      "task 2\n",
      "mse: 13.33\n",
      "rmse: 3.65\n",
      "mae: 2.96\n",
      "r2: 0.29\n"
     ]
    }
   ],
   "source": [
    "from sklearn.metrics import mean_squared_error\n",
    "from sklearn.metrics import mean_absolute_error\n",
    "from sklearn.metrics import r2_score\n",
    "\n",
    "for i in range(2,3):\n",
    "    print(\"task\",i)\n",
    "    gbdt = GradientBoostingRegressor(learning_rate=0.07, n_estimators=40, max_depth=5, min_samples_split=180, min_samples_leaf=30, max_features=26, subsample=0.72, random_state=10)\n",
    "    # gbdt = GradientBoostingRegressor()\n",
    "    gbdt.fit(train_X, train_Y[:, i])\n",
    "    mse = mean_squared_error(y_true=test_Y[:, i], y_pred=gbdt.predict(test_X))\n",
    "    mae = mean_absolute_error(y_true=test_Y[:, i], y_pred=gbdt.predict(test_X))\n",
    "    r2 = r2_score(y_true=test_Y[:, i], y_pred=gbdt.predict(test_X))\n",
    "    print(\"mse: {:.2f}\".format(mse))\n",
    "    print(\"rmse: {:.2f}\".format(np.sqrt(mse)))\n",
    "    print(\"mae: {:.2f}\".format(mae))\n",
    "    print(\"r2: {:.2f}\".format(r2))\n",
    "\n",
    "# for i in range(3):\n",
    "#     svr = SVR()\n",
    "#     svr.fit(train_X, train_Y[:, i])\n",
    "#     mse = mean_squared_error(y_true=test_Y[:, i], y_pred=svr.predict(test_X))\n",
    "#     print(mse)"
   ]
  },
  {
   "cell_type": "code",
   "execution_count": 124,
   "metadata": {},
   "outputs": [
    {
     "name": "stderr",
     "output_type": "stream",
     "text": [
      "100%|██████████| 1/1 [00:10<00:00, 10.23s/it]\n"
     ]
    }
   ],
   "source": [
    "from tqdm import tqdm\n",
    "\n",
    "res = []\n",
    "for dirname in tqdm(os.listdir('./processed_data')):\n",
    "    train_path = f'./processed_data/{dirname}/train.csv'\n",
    "    test_path = f'./processed_data/{dirname}/test.csv'\n",
    "    train = pd.read_csv(train_path, index_col=0)\n",
    "    test = pd.read_csv(test_path, index_col=0)\n",
    "\n",
    "    train_X = train.iloc[:,3:].to_numpy()\n",
    "    train_Y = train.iloc[:,:3].to_numpy()\n",
    "    test_X = test.iloc[:,3:].to_numpy()\n",
    "    test_Y = test.iloc[:,:3].to_numpy()\n",
    "    \n",
    "    gbdt_res = []\n",
    "    svr_res = []\n",
    "    for i in range(3):\n",
    "        gbdt = GradientBoostingRegressor()\n",
    "        gbdt.fit(train_X, train_Y[:, i])\n",
    "        mse = mean_squared_error(y_true=test_Y[:, i], y_pred=gbdt.predict(test_X))\n",
    "        # print(mse)\n",
    "        gbdt_res.append(mse)\n",
    "\n",
    "        # svr = SVR()\n",
    "        # svr.fit(train_X, train_Y[:, i])\n",
    "        # mse = mean_squared_error(y_true=test_Y[:, i], y_pred=svr.predict(test_X))\n",
    "        # # print(mse)\n",
    "        # svr_res.append(mse)\n",
    "    res.append([dirname, gbdt_res, svr_res])"
   ]
  },
  {
   "cell_type": "code",
   "execution_count": 123,
   "metadata": {},
   "outputs": [
    {
     "name": "stdout",
     "output_type": "stream",
     "text": [
      "minmax_pca_25\n",
      "363.68767458810464\n",
      "[['minmax_pca_25', [363.68767458810464, 194.97712222017938, 15.253775675584683], []]]\n"
     ]
    }
   ],
   "source": [
    "mn1=1000\n",
    "mn2=1000\n",
    "for dirname, gbdt, svr in res:\n",
    "    mn1 = min(mn1, gbdt[0])\n",
    "    # mn2 = min(mn2, svr[0])\n",
    "    if(gbdt[0]<365): print(dirname)\n",
    "print(mn1)\n",
    "# print(mn2)\n",
    "# res1 = res.copy()\n",
    "print(res)"
   ]
  }
 ],
 "metadata": {
  "interpreter": {
   "hash": "17ef22cf90f0f69a1d042cd7b0a31f1a7801a8cfc89087d7bc2c468928689709"
  },
  "kernelspec": {
   "display_name": "Python 3.6.13 ('py36_hjf')",
   "language": "python",
   "name": "python3"
  },
  "language_info": {
   "codemirror_mode": {
    "name": "ipython",
    "version": 3
   },
   "file_extension": ".py",
   "mimetype": "text/x-python",
   "name": "python",
   "nbconvert_exporter": "python",
   "pygments_lexer": "ipython3",
   "version": "3.6.13"
  },
  "orig_nbformat": 4
 },
 "nbformat": 4,
 "nbformat_minor": 2
}
